{
 "cells": [
  {
   "cell_type": "code",
   "execution_count": 1,
   "metadata": {},
   "outputs": [],
   "source": [
    "import numpy as np"
   ]
  },
  {
   "cell_type": "code",
   "execution_count": 10,
   "metadata": {},
   "outputs": [
    {
     "name": "stdout",
     "output_type": "stream",
     "text": [
      "[1 2 3]\n",
      "(3,)\n",
      "1 2 3\n",
      "[5 2 3]\n",
      "[[1 2 3]\n",
      " [4 5 6]]\n",
      "(2, 3)\n",
      "1\n",
      "[1.  1.1 1.2]\n"
     ]
    }
   ],
   "source": [
    "a = np.array([1,2,3]) # numpy array: grid of values indexed by a tuple\n",
    "print(a)\n",
    "print(a.shape) # denotes size and dimension as a tuple\n",
    "print(a[0], a[1], a[2])\n",
    "a[0] = 5\n",
    "print(a)\n",
    "\n",
    "b = np.array([[1,2,3],[4,5,6]]) # 2d array\n",
    "print(b)\n",
    "print(b.shape)\n",
    "print(b[0,0]) # retrieve specific element\n",
    "\n",
    "c = np.array([1.0, 1.1, 1.2]) # floats\n",
    "print(c)"
   ]
  },
  {
   "cell_type": "code",
   "execution_count": 17,
   "metadata": {},
   "outputs": [
    {
     "name": "stdout",
     "output_type": "stream",
     "text": [
      "[[0. 0. 0.]\n",
      " [0. 0. 0.]]\n",
      "[[1. 1.]]\n",
      "[[7 7 7]\n",
      " [7 7 7]]\n",
      "[0. 0. 0. 0. 0.]\n",
      "[[0.34946379 0.9734756  0.07905021]\n",
      " [0.86146167 0.27489176 0.91202167]\n",
      " [0.18396927 0.59702846 0.59060843]]\n"
     ]
    }
   ],
   "source": [
    "a = np.zeros((2,3)) # create an array filled with zeros; parameters are array dimensions\n",
    "print(a)\n",
    "\n",
    "b = np.ones((1,2)) # create array filled with ones\n",
    "print(b)\n",
    "\n",
    "c = np.full((2,3), 7) # create array filled with user specified values\n",
    "print(c)\n",
    "\n",
    "d = np.zeros((5)) # one dimensional\n",
    "print(d)\n",
    "\n",
    "e = np.random.random((3,3)) # create array filled with random values\n",
    "print(e)"
   ]
  },
  {
   "cell_type": "code",
   "execution_count": 20,
   "metadata": {},
   "outputs": [
    {
     "name": "stdout",
     "output_type": "stream",
     "text": [
      "[[ 1  2  3  4]\n",
      " [ 5  6  7  8]\n",
      " [ 9 10 11 12]]\n",
      "[[2 3]\n",
      " [6 7]]\n",
      "2\n",
      "75\n",
      "[[ 1 75  3  4]\n",
      " [ 5  6  7  8]\n",
      " [ 9 10 11 12]]\n"
     ]
    }
   ],
   "source": [
    "a = np.array([[1,2,3,4], [5,6,7,8],[9,10,11,12]])\n",
    "print(a)\n",
    "\n",
    "b = a[:2, 1:3] # slice first two rows and columns 1&2\n",
    "print(b)\n",
    "\n",
    "print(a[0,1]) # slice is a view into the data\n",
    "b[0,0] = 75 # if you modify the slice\n",
    "print(a[0,1]) # it modifies the original data\n",
    "print(a)"
   ]
  },
  {
   "cell_type": "code",
   "execution_count": 23,
   "metadata": {},
   "outputs": [
    {
     "name": "stdout",
     "output_type": "stream",
     "text": [
      "[[1 2]\n",
      " [3 4]\n",
      " [5 6]]\n",
      "[[False False]\n",
      " [ True  True]\n",
      " [ True  True]]\n",
      "[3 4 5 6]\n"
     ]
    }
   ],
   "source": [
    "# boolean array values\n",
    "a = np.array([[1,2],[3,4],[5,6]])\n",
    "print(a)\n",
    "\n",
    "print(a > 2)\n",
    "\n",
    "print(a[a>2])"
   ]
  },
  {
   "cell_type": "code",
   "execution_count": 35,
   "metadata": {},
   "outputs": [
    {
     "name": "stdout",
     "output_type": "stream",
     "text": [
      "[[1 2]\n",
      " [3 4]]\n",
      "[[5 6]\n",
      " [7 8]]\n",
      "[[ 6  8]\n",
      " [10 12]]\n",
      "[[ 6  8]\n",
      " [10 12]]\n",
      "[[-4 -4]\n",
      " [-4 -4]]\n",
      "[[-4 -4]\n",
      " [-4 -4]]\n",
      "[[ 5 12]\n",
      " [21 32]]\n",
      "[[ 5 12]\n",
      " [21 32]]\n",
      "[[0.2        0.33333333]\n",
      " [0.42857143 0.5       ]]\n",
      "[[0.2        0.33333333]\n",
      " [0.42857143 0.5       ]]\n",
      "[[    1    64]\n",
      " [ 2187 65536]]\n"
     ]
    }
   ],
   "source": [
    "# basic math\n",
    "x = np.array([[1,2],[3,4]])\n",
    "y = np.array([[5,6],[7,8]])\n",
    "\n",
    "print(x)\n",
    "print(y)\n",
    "\n",
    "print(x + y)\n",
    "print(np.add(x,y))\n",
    "\n",
    "print(x-y)\n",
    "print(np.subtract(x,y))\n",
    "\n",
    "print(x*y)\n",
    "print(np.multiply(x,y))\n",
    "\n",
    "print(x/y)\n",
    "print(np.divide(x,y))\n",
    "\n",
    "print(x**y)"
   ]
  },
  {
   "cell_type": "code",
   "execution_count": 38,
   "metadata": {},
   "outputs": [
    {
     "name": "stdout",
     "output_type": "stream",
     "text": [
      "10\n",
      "[4 6]\n",
      "[3 7]\n"
     ]
    }
   ],
   "source": [
    "print(np.sum(x)) # sum of all values in x\n",
    "print(np.sum(x, axis=0)) # sum of values in columns\n",
    "print(np.sum(x, axis=1)) # sum of values in rows"
   ]
  }
 ],
 "metadata": {
  "kernelspec": {
   "display_name": "Python 3",
   "language": "python",
   "name": "python3"
  },
  "language_info": {
   "codemirror_mode": {
    "name": "ipython",
    "version": 3
   },
   "file_extension": ".py",
   "mimetype": "text/x-python",
   "name": "python",
   "nbconvert_exporter": "python",
   "pygments_lexer": "ipython3",
   "version": "3.8.5"
  }
 },
 "nbformat": 4,
 "nbformat_minor": 4
}
